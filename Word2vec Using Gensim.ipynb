{
 "cells": [
  {
   "cell_type": "markdown",
   "id": "20685b94",
   "metadata": {},
   "source": [
    "# Importing Libraries"
   ]
  },
  {
   "cell_type": "code",
   "execution_count": 1,
   "id": "807133f1",
   "metadata": {},
   "outputs": [],
   "source": [
    "import os\n",
    "import re\n",
    "import gensim"
   ]
  },
  {
   "cell_type": "code",
   "execution_count": 2,
   "id": "70d73cb5",
   "metadata": {},
   "outputs": [
    {
     "name": "stdout",
     "output_type": "stream",
     "text": [
      "['dubai', 'beijing', 'san-francisco', 'new-york-city', 'london', 'las-vegas', 'new-delhi', 'shanghai', '.DS_Store', 'chicago', 'montreal']\n"
     ]
    }
   ],
   "source": [
    "print(os.listdir(\"/home/dasharath/Downloads/word2vec_dataset/word2vec_dataset/review_hotels/data\"))"
   ]
  },
  {
   "cell_type": "code",
   "execution_count": 3,
   "id": "44235477",
   "metadata": {},
   "outputs": [
    {
     "data": {
      "text/plain": [
       "\"Nov 19 2009 \\tBest beach hotel in DUbai\\tWe enjoyed our HONEYMOON at the Habtoor Hotel. Talking about the location: it was the best beach hotel in the area called Dubai Marina. The zone is totaly new and the hotel's beach is the best in the area (we visited some good hotels).The service was 100% high.The room was very nice, with big nice bathroom, with a view to the infinity pool+sea+city. And it was just a standart room. It was clean all the time we stayed there, cleanig the room twice a day, serving fruits in the first day for free and chocolates every day for free. There are a lot of nice restaurants and bars on the hotel's territory.The food at te main restaurant was various. We liked we could choose from lots of fresh juices (orange, watermelon, carrot...) and the food was also fresh.What we didnt like is that the vacation was over and we had to leave :)If we go in Dubai again - we deffinetely choose Habtoor Grand.p.s. There was free bus trips to all the biggest malls in Dubai which really impressed us.\\t\\n\""
      ]
     },
     "execution_count": 3,
     "metadata": {},
     "output_type": "execute_result"
    }
   ],
   "source": [
    "reviews=[]\n",
    "path=\"/home/dasharath/Downloads/word2vec_dataset/word2vec_dataset/review_hotels/data\"\n",
    "for folders in os.listdir(path):\n",
    "    #print(folders)\n",
    "    if not folders[0].isalnum():\n",
    "        continue\n",
    "    for filename in os.listdir(path + '/' + folders):\n",
    "        with open(os.path.join(path + '/' + folders,filename),'r', errors='ignore') as f:\n",
    "            for rv in f.readlines():\n",
    "                reviews.append(rv)\n",
    "len(reviews)\n",
    "reviews[5]"
   ]
  },
  {
   "cell_type": "markdown",
   "id": "106a0544",
   "metadata": {},
   "source": [
    "# Data Pre-processing"
   ]
  },
  {
   "cell_type": "code",
   "execution_count": 4,
   "id": "d040062c",
   "metadata": {},
   "outputs": [
    {
     "data": {
      "text/plain": [
       "255138"
      ]
     },
     "execution_count": 4,
     "metadata": {},
     "output_type": "execute_result"
    }
   ],
   "source": [
    "valid_reviews=[]\n",
    "null_reviews=[]\n",
    "for i in range(len(reviews)):\n",
    "    try:\n",
    "        valid_reviews.append(reviews[i][reviews[i].index('\\t')+1:]) #removing date and month from every review\n",
    "    except:\n",
    "         null_reviews.append(reviews[i])\n",
    "len(valid_reviews)"
   ]
  },
  {
   "cell_type": "code",
   "execution_count": 5,
   "id": "367e3d01",
   "metadata": {},
   "outputs": [
    {
     "data": {
      "text/plain": [
       "\"Best beach hotel in DUbai\\tWe enjoyed our HONEYMOON at the Habtoor Hotel. Talking about the location: it was the best beach hotel in the area called Dubai Marina. The zone is totaly new and the hotel's beach is the best in the area (we visited some good hotels).The service was 100% high.The room was very nice, with big nice bathroom, with a view to the infinity pool+sea+city. And it was just a standart room. It was clean all the time we stayed there, cleanig the room twice a day, serving fruits in the first day for free and chocolates every day for free. There are a lot of nice restaurants and bars on the hotel's territory.The food at te main restaurant was various. We liked we could choose from lots of fresh juices (orange, watermelon, carrot...) and the food was also fresh.What we didnt like is that the vacation was over and we had to leave :)If we go in Dubai again - we deffinetely choose Habtoor Grand.p.s. There was free bus trips to all the biggest malls in Dubai which really impressed us.\\t\\n\""
      ]
     },
     "execution_count": 5,
     "metadata": {},
     "output_type": "execute_result"
    }
   ],
   "source": [
    "valid_reviews[5]"
   ]
  },
  {
   "cell_type": "code",
   "execution_count": 6,
   "id": "f938258b",
   "metadata": {},
   "outputs": [
    {
     "data": {
      "text/plain": [
       "['Rar!\\x1a\\x07\\x00ϐs\\x00\\x00\\n',\n",
       " '\\x00\\x00\\x00\\x00\\x00\\x00\\x00\\x07*tN\\x00r\\x03\\x00\\n',\n",
       " '\\x00\\x02j,&\\x17R;\\x1d3)\\x00 \\x00\\x00\\x00usa_nevada_las-vegas_riviera_hotel_casino\\x00ro\\x14\\x1dQ\\x0cQ\\x19~5rO1Iny?MU+ݶ+\\n',\n",
       " \"ҀmՃA6\\x17\\x19Go\\x06\\x04'\\x00<\\x1d\\n\",\n",
       " \"<?j5Fqϱ˝=|e3)\\x02_[~T{9k\\x1aoOb_^\\x0f\\x07\\x10\\x0bίoM#αt'yo8shZ['1}jx/K\\x17eٚ'8\\n\"]"
      ]
     },
     "execution_count": 6,
     "metadata": {},
     "output_type": "execute_result"
    }
   ],
   "source": [
    "null_reviews[:5]"
   ]
  },
  {
   "cell_type": "code",
   "execution_count": 7,
   "id": "d40b67b9",
   "metadata": {},
   "outputs": [
    {
     "name": "stdout",
     "output_type": "stream",
     "text": [
      "Best beach hotel in DUbai We enjoyed our HONEYMOON at the Habtoor Hotel. Talking about the location: it was the best beach hotel in the area called Dubai Marina. The zone is totaly new and the hotel's beach is the best in the area (we visited some good hotels).The service was 100% high.The room was very nice, with big nice bathroom, with a view to the infinity pool+sea+city. And it was just a standart room. It was clean all the time we stayed there, cleanig the room twice a day, serving fruits in the first day for free and chocolates every day for free. There are a lot of nice restaurants and bars on the hotel's territory.The food at te main restaurant was various. We liked we could choose from lots of fresh juices (orange, watermelon, carrot...) and the food was also fresh.What we didnt like is that the vacation was over and we had to leave :)If we go in Dubai again - we deffinetely choose Habtoor Grand.p.s. There was free bus trips to all the biggest malls in Dubai which really impressed us. \n"
     ]
    }
   ],
   "source": [
    "for i in range(len(valid_reviews)):\n",
    "    valid_reviews[i]=re.sub('\\t',' ',valid_reviews[i])\n",
    "    valid_reviews[i]=re.sub(\"\\n\",\"\",valid_reviews[i])\n",
    "print(valid_reviews[5])"
   ]
  },
  {
   "cell_type": "code",
   "execution_count": 8,
   "id": "2fdc2999",
   "metadata": {},
   "outputs": [
    {
     "data": {
      "text/plain": [
       "<map at 0x7f3e9def1880>"
      ]
     },
     "execution_count": 8,
     "metadata": {},
     "output_type": "execute_result"
    }
   ],
   "source": [
    "map(lambda x: gensim.utils.simple_preprocess(x),valid_reviews)"
   ]
  },
  {
   "cell_type": "code",
   "execution_count": 9,
   "id": "ac008817",
   "metadata": {},
   "outputs": [
    {
     "data": {
      "text/plain": [
       "['best',\n",
       " 'beach',\n",
       " 'hotel',\n",
       " 'in',\n",
       " 'dubai',\n",
       " 'we',\n",
       " 'enjoyed',\n",
       " 'our',\n",
       " 'honeymoon',\n",
       " 'at',\n",
       " 'the',\n",
       " 'habtoor',\n",
       " 'hotel',\n",
       " 'talking',\n",
       " 'about',\n",
       " 'the',\n",
       " 'location',\n",
       " 'it',\n",
       " 'was',\n",
       " 'the',\n",
       " 'best',\n",
       " 'beach',\n",
       " 'hotel',\n",
       " 'in',\n",
       " 'the',\n",
       " 'area',\n",
       " 'called',\n",
       " 'dubai',\n",
       " 'marina',\n",
       " 'the',\n",
       " 'zone',\n",
       " 'is',\n",
       " 'totaly',\n",
       " 'new',\n",
       " 'and',\n",
       " 'the',\n",
       " 'hotel',\n",
       " 'beach',\n",
       " 'is',\n",
       " 'the',\n",
       " 'best',\n",
       " 'in',\n",
       " 'the',\n",
       " 'area',\n",
       " 'we',\n",
       " 'visited',\n",
       " 'some',\n",
       " 'good',\n",
       " 'hotels',\n",
       " 'the',\n",
       " 'service',\n",
       " 'was',\n",
       " 'high',\n",
       " 'the',\n",
       " 'room',\n",
       " 'was',\n",
       " 'very',\n",
       " 'nice',\n",
       " 'with',\n",
       " 'big',\n",
       " 'nice',\n",
       " 'bathroom',\n",
       " 'with',\n",
       " 'view',\n",
       " 'to',\n",
       " 'the',\n",
       " 'infinity',\n",
       " 'pool',\n",
       " 'sea',\n",
       " 'city',\n",
       " 'and',\n",
       " 'it',\n",
       " 'was',\n",
       " 'just',\n",
       " 'standart',\n",
       " 'room',\n",
       " 'it',\n",
       " 'was',\n",
       " 'clean',\n",
       " 'all',\n",
       " 'the',\n",
       " 'time',\n",
       " 'we',\n",
       " 'stayed',\n",
       " 'there',\n",
       " 'cleanig',\n",
       " 'the',\n",
       " 'room',\n",
       " 'twice',\n",
       " 'day',\n",
       " 'serving',\n",
       " 'fruits',\n",
       " 'in',\n",
       " 'the',\n",
       " 'first',\n",
       " 'day',\n",
       " 'for',\n",
       " 'free',\n",
       " 'and',\n",
       " 'chocolates',\n",
       " 'every',\n",
       " 'day',\n",
       " 'for',\n",
       " 'free',\n",
       " 'there',\n",
       " 'are',\n",
       " 'lot',\n",
       " 'of',\n",
       " 'nice',\n",
       " 'restaurants',\n",
       " 'and',\n",
       " 'bars',\n",
       " 'on',\n",
       " 'the',\n",
       " 'hotel',\n",
       " 'territory',\n",
       " 'the',\n",
       " 'food',\n",
       " 'at',\n",
       " 'te',\n",
       " 'main',\n",
       " 'restaurant',\n",
       " 'was',\n",
       " 'various',\n",
       " 'we',\n",
       " 'liked',\n",
       " 'we',\n",
       " 'could',\n",
       " 'choose',\n",
       " 'from',\n",
       " 'lots',\n",
       " 'of',\n",
       " 'fresh',\n",
       " 'juices',\n",
       " 'orange',\n",
       " 'watermelon',\n",
       " 'carrot',\n",
       " 'and',\n",
       " 'the',\n",
       " 'food',\n",
       " 'was',\n",
       " 'also',\n",
       " 'fresh',\n",
       " 'what',\n",
       " 'we',\n",
       " 'didnt',\n",
       " 'like',\n",
       " 'is',\n",
       " 'that',\n",
       " 'the',\n",
       " 'vacation',\n",
       " 'was',\n",
       " 'over',\n",
       " 'and',\n",
       " 'we',\n",
       " 'had',\n",
       " 'to',\n",
       " 'leave',\n",
       " 'if',\n",
       " 'we',\n",
       " 'go',\n",
       " 'in',\n",
       " 'dubai',\n",
       " 'again',\n",
       " 'we',\n",
       " 'deffinetely',\n",
       " 'choose',\n",
       " 'habtoor',\n",
       " 'grand',\n",
       " 'there',\n",
       " 'was',\n",
       " 'free',\n",
       " 'bus',\n",
       " 'trips',\n",
       " 'to',\n",
       " 'all',\n",
       " 'the',\n",
       " 'biggest',\n",
       " 'malls',\n",
       " 'in',\n",
       " 'dubai',\n",
       " 'which',\n",
       " 'really',\n",
       " 'impressed',\n",
       " 'us']"
      ]
     },
     "execution_count": 9,
     "metadata": {},
     "output_type": "execute_result"
    }
   ],
   "source": [
    "for i in range(len(valid_reviews)):\n",
    "    valid_reviews[i]=gensim.utils.simple_preprocess(valid_reviews[i])\n",
    "valid_reviews[5]"
   ]
  },
  {
   "cell_type": "code",
   "execution_count": 10,
   "id": "03178251",
   "metadata": {},
   "outputs": [],
   "source": [
    "w2v_model = gensim.models.Word2Vec(valid_reviews,vector_size=100, window=5,min_count=2)"
   ]
  },
  {
   "cell_type": "code",
   "execution_count": 11,
   "id": "6170f75c",
   "metadata": {},
   "outputs": [
    {
     "data": {
      "text/plain": [
       "[('courteous', 0.9460412859916687),\n",
       " ('cordial', 0.9136328101158142),\n",
       " ('curteous', 0.899044930934906),\n",
       " ('curtious', 0.8937057256698608),\n",
       " ('friendly', 0.8793176412582397),\n",
       " ('freindly', 0.8749067783355713),\n",
       " ('professional', 0.867110550403595),\n",
       " ('personable', 0.8634923696517944),\n",
       " ('friendy', 0.8542272448539734),\n",
       " ('attentive', 0.8480972647666931)]"
      ]
     },
     "execution_count": 11,
     "metadata": {},
     "output_type": "execute_result"
    }
   ],
   "source": [
    "w2v_model.wv.most_similar('polite')"
   ]
  },
  {
   "cell_type": "code",
   "execution_count": 12,
   "id": "a1ca661f",
   "metadata": {},
   "outputs": [
    {
     "data": {
      "text/plain": [
       "[('filthy', 0.88773113489151),\n",
       " ('unclean', 0.8331205248832703),\n",
       " ('dusty', 0.8238223791122437),\n",
       " ('stained', 0.8082650303840637),\n",
       " ('grubby', 0.8054977655410767),\n",
       " ('smelly', 0.7955514192581177),\n",
       " ('dingy', 0.7882152795791626),\n",
       " ('grimy', 0.7766459584236145),\n",
       " ('soiled', 0.7752021551132202),\n",
       " ('mouldy', 0.7577071785926819)]"
      ]
     },
     "execution_count": 12,
     "metadata": {},
     "output_type": "execute_result"
    }
   ],
   "source": [
    "w2v_model.wv.most_similar('dirty')"
   ]
  },
  {
   "cell_type": "code",
   "execution_count": 13,
   "id": "7c070780",
   "metadata": {},
   "outputs": [
    {
     "data": {
      "text/plain": [
       "[('canada', 0.7659478187561035),\n",
       " ('germany', 0.7658926248550415),\n",
       " ('barcelona', 0.742457926273346),\n",
       " ('rome', 0.7255270481109619),\n",
       " ('los', 0.7230028510093689),\n",
       " ('detroit', 0.7169702649116516),\n",
       " ('greece', 0.7129996418952942),\n",
       " ('switzerland', 0.7112889289855957),\n",
       " ('philadelphia', 0.7105582356452942),\n",
       " ('ottawa', 0.7082682847976685)]"
      ]
     },
     "execution_count": 13,
     "metadata": {},
     "output_type": "execute_result"
    }
   ],
   "source": [
    "w2v_model.wv.most_similar('france')"
   ]
  },
  {
   "cell_type": "code",
   "execution_count": 15,
   "id": "cf31554c",
   "metadata": {},
   "outputs": [
    {
     "data": {
      "text/plain": [
       "[('astonished', 0.848638117313385),\n",
       " ('horrified', 0.8479185700416565),\n",
       " ('dismayed', 0.8416078686714172),\n",
       " ('amazed', 0.8401554822921753),\n",
       " ('stunned', 0.8346250653266907),\n",
       " ('appalled', 0.813107967376709),\n",
       " ('suprised', 0.7887057662010193),\n",
       " ('relieved', 0.7812135219573975),\n",
       " ('astounded', 0.7758198976516724),\n",
       " ('surprised', 0.7747054100036621)]"
      ]
     },
     "execution_count": 15,
     "metadata": {},
     "output_type": "execute_result"
    }
   ],
   "source": [
    "w2v_model.wv.most_similar('shocked')"
   ]
  },
  {
   "cell_type": "code",
   "execution_count": 16,
   "id": "ef0d011b",
   "metadata": {},
   "outputs": [
    {
     "data": {
      "text/plain": [
       "array([ 0.96148616, -2.962596  , -0.9828699 , -0.02904113,  2.2934608 ,\n",
       "        0.20003363, -0.3294606 ,  1.4543895 , -2.598314  , -0.222358  ,\n",
       "       -2.9145021 , -1.1549045 ,  0.86343086,  1.5950729 , -2.234929  ,\n",
       "       -0.51325387, -1.4899116 , -1.3004448 ,  3.0687792 , -1.8756682 ,\n",
       "        3.2607863 ,  0.8777281 , -0.78006756,  0.0765892 ,  0.85732627,\n",
       "        2.5688639 ,  0.27014247,  1.8361483 , -1.1642137 ,  2.2695076 ,\n",
       "       -1.1377511 ,  0.4087824 , -0.08690834, -0.92643034,  1.1758516 ,\n",
       "        0.40795738, -1.7256422 , -1.6579458 , -2.590104  , -0.8474376 ,\n",
       "       -0.06283475,  0.03875514,  2.0700972 ,  3.6387393 ,  3.7352693 ,\n",
       "       -0.6402609 ,  4.797786  , -3.3334007 ,  2.0604618 ,  1.0091763 ,\n",
       "        2.6988819 , -0.09097935,  1.4289647 , -0.23945975, -3.5660584 ,\n",
       "       -0.52379   , -1.7031491 , -2.705008  ,  0.09204239, -1.7481402 ,\n",
       "       -1.7221574 ,  1.8341595 , -2.1881099 ,  0.7429648 , -2.532374  ,\n",
       "        0.5986513 , -0.99531895,  0.70060277,  0.943787  ,  0.7796863 ,\n",
       "        2.1516244 ,  2.45661   , -0.11767976,  1.9905216 ,  0.6086729 ,\n",
       "       -0.8457032 ,  3.1641905 , -1.5990546 ,  1.0562388 , -2.2015707 ,\n",
       "        1.1393261 , -0.37874126,  1.3803933 , -5.5625024 ,  2.8695765 ,\n",
       "       -2.435949  ,  2.6910026 ,  0.13645959, -3.047267  , -2.1694922 ,\n",
       "        0.22242482,  1.5043588 , -2.3362765 ,  1.0598186 , -0.41980252,\n",
       "        1.0890183 , -1.8225365 ,  1.0200684 , -0.03053633, -0.9462903 ],\n",
       "      dtype=float32)"
      ]
     },
     "execution_count": 16,
     "metadata": {},
     "output_type": "execute_result"
    }
   ],
   "source": [
    "w2v_model.wv['polite']"
   ]
  },
  {
   "cell_type": "code",
   "execution_count": 17,
   "id": "cdc66226",
   "metadata": {},
   "outputs": [
    {
     "data": {
      "text/plain": [
       "array([ 1.0945729 , -3.12255   , -1.7025201 , -0.49654898,  2.8091624 ,\n",
       "        0.8013936 ,  0.13077055,  2.291772  , -2.9157865 ,  0.77397263,\n",
       "       -2.3771374 , -0.8584413 ,  0.21354134,  2.07059   , -1.6458545 ,\n",
       "       -0.3265382 , -0.9149604 , -1.0017003 ,  1.5623434 , -0.9318878 ,\n",
       "        3.3650794 ,  0.46918055, -0.5430177 ,  0.07024726,  0.39773673,\n",
       "        2.332161  ,  0.7592371 ,  1.698034  , -1.3843198 ,  1.1847469 ,\n",
       "       -0.5061306 ,  0.15639526,  0.2629922 , -1.8966621 ,  1.8008254 ,\n",
       "       -1.1852883 , -1.9104736 , -1.459085  , -2.6704206 , -0.4366703 ,\n",
       "       -0.20750375, -0.39977837,  1.6234128 ,  4.0464687 ,  3.1744673 ,\n",
       "       -0.51244944,  4.003939  , -2.00339   ,  1.8433932 ,  0.38929287,\n",
       "        2.8227837 ,  0.51724416,  1.0017874 ,  0.47840017, -2.402276  ,\n",
       "       -1.585042  , -2.048666  , -2.4877353 , -0.5820281 , -2.2302232 ,\n",
       "       -1.6332616 ,  2.316336  , -1.673365  ,  1.023165  , -1.9747599 ,\n",
       "        0.66054356, -0.7824497 ,  0.24389537,  1.7186011 ,  0.6295055 ,\n",
       "        1.6752204 ,  3.11784   ,  0.6072343 ,  2.7160292 ,  0.8467225 ,\n",
       "       -0.28644562,  3.737541  , -1.6252078 ,  1.118032  , -1.6022319 ,\n",
       "        0.6959195 ,  0.05935201,  1.8990761 , -4.4045424 ,  2.6703856 ,\n",
       "       -2.8794527 ,  1.7475392 , -0.6470255 , -3.395504  , -0.76621395,\n",
       "        0.99832076, -0.0975497 , -2.5462213 ,  0.9845166 , -0.5163016 ,\n",
       "        0.9167892 , -1.7101716 ,  1.1787169 ,  0.36972484, -0.58320963],\n",
       "      dtype=float32)"
      ]
     },
     "execution_count": 17,
     "metadata": {},
     "output_type": "execute_result"
    }
   ],
   "source": [
    "w2v_model.wv['courteous']"
   ]
  },
  {
   "cell_type": "code",
   "execution_count": null,
   "id": "fe208b56",
   "metadata": {},
   "outputs": [],
   "source": []
  }
 ],
 "metadata": {
  "kernelspec": {
   "display_name": "Python 3 (ipykernel)",
   "language": "python",
   "name": "python3"
  },
  "language_info": {
   "codemirror_mode": {
    "name": "ipython",
    "version": 3
   },
   "file_extension": ".py",
   "mimetype": "text/x-python",
   "name": "python",
   "nbconvert_exporter": "python",
   "pygments_lexer": "ipython3",
   "version": "3.8.10"
  }
 },
 "nbformat": 4,
 "nbformat_minor": 5
}
