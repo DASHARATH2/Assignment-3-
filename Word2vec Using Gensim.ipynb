{
 "cells": [
  {
   "cell_type": "markdown",
   "id": "20685b94",
   "metadata": {},
   "source": [
    "# Importing Libraries"
   ]
  },
  {
   "cell_type": "code",
   "execution_count": 1,
   "id": "807133f1",
   "metadata": {},
   "outputs": [],
   "source": [
    "import os\n",
    "import re\n",
    "import gensim"
   ]
  },
  {
   "cell_type": "code",
   "execution_count": 2,
   "id": "70d73cb5",
   "metadata": {},
   "outputs": [
    {
     "name": "stdout",
     "output_type": "stream",
     "text": [
      "['dubai', 'beijing', 'san-francisco', 'new-york-city', 'london', 'las-vegas', 'new-delhi', 'shanghai', '.DS_Store', 'chicago', 'montreal']\n"
     ]
    }
   ],
   "source": [
    "print(os.listdir(\"/home/dasharath/Downloads/word2vec_dataset/word2vec_dataset/review_hotels/data\"))"
   ]
  },
  {
   "cell_type": "code",
   "execution_count": 3,
   "id": "44235477",
   "metadata": {},
   "outputs": [
    {
     "data": {
      "text/plain": [
       "\"Nov 19 2009 \\tBest beach hotel in DUbai\\tWe enjoyed our HONEYMOON at the Habtoor Hotel. Talking about the location: it was the best beach hotel in the area called Dubai Marina. The zone is totaly new and the hotel's beach is the best in the area (we visited some good hotels).The service was 100% high.The room was very nice, with big nice bathroom, with a view to the infinity pool+sea+city. And it was just a standart room. It was clean all the time we stayed there, cleanig the room twice a day, serving fruits in the first day for free and chocolates every day for free. There are a lot of nice restaurants and bars on the hotel's territory.The food at te main restaurant was various. We liked we could choose from lots of fresh juices (orange, watermelon, carrot...) and the food was also fresh.What we didnt like is that the vacation was over and we had to leave :)If we go in Dubai again - we deffinetely choose Habtoor Grand.p.s. There was free bus trips to all the biggest malls in Dubai which really impressed us.\\t\\n\""
      ]
     },
     "execution_count": 3,
     "metadata": {},
     "output_type": "execute_result"
    }
   ],
   "source": [
    "reviews=[]\n",
    "path=\"/home/dasharath/Downloads/word2vec_dataset/word2vec_dataset/review_hotels/data\"\n",
    "for folders in os.listdir(path):\n",
    "    #print(folders)\n",
    "    if not folders[0].isalnum():\n",
    "        continue\n",
    "    for filename in os.listdir(path + '/' + folders):\n",
    "        with open(os.path.join(path + '/' + folders,filename),'r', errors='ignore') as f:\n",
    "            for rv in f.readlines():\n",
    "                reviews.append(rv)\n",
    "len(reviews)\n",
    "reviews[5]"
   ]
  },
  {
   "cell_type": "markdown",
   "id": "106a0544",
   "metadata": {},
   "source": [
    "# Data Pre-processing"
   ]
  },
  {
   "cell_type": "code",
   "execution_count": 4,
   "id": "d040062c",
   "metadata": {},
   "outputs": [
    {
     "data": {
      "text/plain": [
       "255138"
      ]
     },
     "execution_count": 4,
     "metadata": {},
     "output_type": "execute_result"
    }
   ],
   "source": [
    "valid_reviews=[]\n",
    "null_reviews=[]\n",
    "for i in range(len(reviews)):\n",
    "    try:\n",
    "        valid_reviews.append(reviews[i][reviews[i].index('\\t')+1:]) #removing date and month from every review\n",
    "    except:\n",
    "         null_reviews.append(reviews[i])\n",
    "len(valid_reviews)"
   ]
  },
  {
   "cell_type": "code",
   "execution_count": 5,
   "id": "367e3d01",
   "metadata": {},
   "outputs": [
    {
     "data": {
      "text/plain": [
       "\"Best beach hotel in DUbai\\tWe enjoyed our HONEYMOON at the Habtoor Hotel. Talking about the location: it was the best beach hotel in the area called Dubai Marina. The zone is totaly new and the hotel's beach is the best in the area (we visited some good hotels).The service was 100% high.The room was very nice, with big nice bathroom, with a view to the infinity pool+sea+city. And it was just a standart room. It was clean all the time we stayed there, cleanig the room twice a day, serving fruits in the first day for free and chocolates every day for free. There are a lot of nice restaurants and bars on the hotel's territory.The food at te main restaurant was various. We liked we could choose from lots of fresh juices (orange, watermelon, carrot...) and the food was also fresh.What we didnt like is that the vacation was over and we had to leave :)If we go in Dubai again - we deffinetely choose Habtoor Grand.p.s. There was free bus trips to all the biggest malls in Dubai which really impressed us.\\t\\n\""
      ]
     },
     "execution_count": 5,
     "metadata": {},
     "output_type": "execute_result"
    }
   ],
   "source": [
    "valid_reviews[5]"
   ]
  },
  {
   "cell_type": "code",
   "execution_count": 6,
   "id": "f938258b",
   "metadata": {},
   "outputs": [
    {
     "data": {
      "text/plain": [
       "['Rar!\\x1a\\x07\\x00ϐs\\x00\\x00\\n',\n",
       " '\\x00\\x00\\x00\\x00\\x00\\x00\\x00\\x07*tN\\x00r\\x03\\x00\\n',\n",
       " '\\x00\\x02j,&\\x17R;\\x1d3)\\x00 \\x00\\x00\\x00usa_nevada_las-vegas_riviera_hotel_casino\\x00ro\\x14\\x1dQ\\x0cQ\\x19~5rO1Iny?MU+ݶ+\\n',\n",
       " \"ҀmՃA6\\x17\\x19Go\\x06\\x04'\\x00<\\x1d\\n\",\n",
       " \"<?j5Fqϱ˝=|e3)\\x02_[~T{9k\\x1aoOb_^\\x0f\\x07\\x10\\x0bίoM#αt'yo8shZ['1}jx/K\\x17eٚ'8\\n\"]"
      ]
     },
     "execution_count": 6,
     "metadata": {},
     "output_type": "execute_result"
    }
   ],
   "source": [
    "null_reviews[:5]"
   ]
  },
  {
   "cell_type": "code",
   "execution_count": 7,
   "id": "d40b67b9",
   "metadata": {},
   "outputs": [
    {
     "name": "stdout",
     "output_type": "stream",
     "text": [
      "Best beach hotel in DUbai We enjoyed our HONEYMOON at the Habtoor Hotel. Talking about the location: it was the best beach hotel in the area called Dubai Marina. The zone is totaly new and the hotel's beach is the best in the area (we visited some good hotels).The service was 100% high.The room was very nice, with big nice bathroom, with a view to the infinity pool+sea+city. And it was just a standart room. It was clean all the time we stayed there, cleanig the room twice a day, serving fruits in the first day for free and chocolates every day for free. There are a lot of nice restaurants and bars on the hotel's territory.The food at te main restaurant was various. We liked we could choose from lots of fresh juices (orange, watermelon, carrot...) and the food was also fresh.What we didnt like is that the vacation was over and we had to leave :)If we go in Dubai again - we deffinetely choose Habtoor Grand.p.s. There was free bus trips to all the biggest malls in Dubai which really impressed us. \n"
     ]
    }
   ],
   "source": [
    "for i in range(len(valid_reviews)):\n",
    "    valid_reviews[i]=re.sub('\\t',' ',valid_reviews[i])\n",
    "    valid_reviews[i]=re.sub(\"\\n\",\"\",valid_reviews[i])\n",
    "print(valid_reviews[5])"
   ]
  },
  {
   "cell_type": "code",
   "execution_count": 8,
   "id": "2fdc2999",
   "metadata": {},
   "outputs": [
    {
     "data": {
      "text/plain": [
       "<map at 0x7fd2f625a9d0>"
      ]
     },
     "execution_count": 8,
     "metadata": {},
     "output_type": "execute_result"
    }
   ],
   "source": [
    "map(lambda x: gensim.utils.simple_preprocess(x),valid_reviews)"
   ]
  },
  {
   "cell_type": "code",
   "execution_count": 9,
   "id": "ac008817",
   "metadata": {},
   "outputs": [
    {
     "data": {
      "text/plain": [
       "['best',\n",
       " 'beach',\n",
       " 'hotel',\n",
       " 'in',\n",
       " 'dubai',\n",
       " 'we',\n",
       " 'enjoyed',\n",
       " 'our',\n",
       " 'honeymoon',\n",
       " 'at',\n",
       " 'the',\n",
       " 'habtoor',\n",
       " 'hotel',\n",
       " 'talking',\n",
       " 'about',\n",
       " 'the',\n",
       " 'location',\n",
       " 'it',\n",
       " 'was',\n",
       " 'the',\n",
       " 'best',\n",
       " 'beach',\n",
       " 'hotel',\n",
       " 'in',\n",
       " 'the',\n",
       " 'area',\n",
       " 'called',\n",
       " 'dubai',\n",
       " 'marina',\n",
       " 'the',\n",
       " 'zone',\n",
       " 'is',\n",
       " 'totaly',\n",
       " 'new',\n",
       " 'and',\n",
       " 'the',\n",
       " 'hotel',\n",
       " 'beach',\n",
       " 'is',\n",
       " 'the',\n",
       " 'best',\n",
       " 'in',\n",
       " 'the',\n",
       " 'area',\n",
       " 'we',\n",
       " 'visited',\n",
       " 'some',\n",
       " 'good',\n",
       " 'hotels',\n",
       " 'the',\n",
       " 'service',\n",
       " 'was',\n",
       " 'high',\n",
       " 'the',\n",
       " 'room',\n",
       " 'was',\n",
       " 'very',\n",
       " 'nice',\n",
       " 'with',\n",
       " 'big',\n",
       " 'nice',\n",
       " 'bathroom',\n",
       " 'with',\n",
       " 'view',\n",
       " 'to',\n",
       " 'the',\n",
       " 'infinity',\n",
       " 'pool',\n",
       " 'sea',\n",
       " 'city',\n",
       " 'and',\n",
       " 'it',\n",
       " 'was',\n",
       " 'just',\n",
       " 'standart',\n",
       " 'room',\n",
       " 'it',\n",
       " 'was',\n",
       " 'clean',\n",
       " 'all',\n",
       " 'the',\n",
       " 'time',\n",
       " 'we',\n",
       " 'stayed',\n",
       " 'there',\n",
       " 'cleanig',\n",
       " 'the',\n",
       " 'room',\n",
       " 'twice',\n",
       " 'day',\n",
       " 'serving',\n",
       " 'fruits',\n",
       " 'in',\n",
       " 'the',\n",
       " 'first',\n",
       " 'day',\n",
       " 'for',\n",
       " 'free',\n",
       " 'and',\n",
       " 'chocolates',\n",
       " 'every',\n",
       " 'day',\n",
       " 'for',\n",
       " 'free',\n",
       " 'there',\n",
       " 'are',\n",
       " 'lot',\n",
       " 'of',\n",
       " 'nice',\n",
       " 'restaurants',\n",
       " 'and',\n",
       " 'bars',\n",
       " 'on',\n",
       " 'the',\n",
       " 'hotel',\n",
       " 'territory',\n",
       " 'the',\n",
       " 'food',\n",
       " 'at',\n",
       " 'te',\n",
       " 'main',\n",
       " 'restaurant',\n",
       " 'was',\n",
       " 'various',\n",
       " 'we',\n",
       " 'liked',\n",
       " 'we',\n",
       " 'could',\n",
       " 'choose',\n",
       " 'from',\n",
       " 'lots',\n",
       " 'of',\n",
       " 'fresh',\n",
       " 'juices',\n",
       " 'orange',\n",
       " 'watermelon',\n",
       " 'carrot',\n",
       " 'and',\n",
       " 'the',\n",
       " 'food',\n",
       " 'was',\n",
       " 'also',\n",
       " 'fresh',\n",
       " 'what',\n",
       " 'we',\n",
       " 'didnt',\n",
       " 'like',\n",
       " 'is',\n",
       " 'that',\n",
       " 'the',\n",
       " 'vacation',\n",
       " 'was',\n",
       " 'over',\n",
       " 'and',\n",
       " 'we',\n",
       " 'had',\n",
       " 'to',\n",
       " 'leave',\n",
       " 'if',\n",
       " 'we',\n",
       " 'go',\n",
       " 'in',\n",
       " 'dubai',\n",
       " 'again',\n",
       " 'we',\n",
       " 'deffinetely',\n",
       " 'choose',\n",
       " 'habtoor',\n",
       " 'grand',\n",
       " 'there',\n",
       " 'was',\n",
       " 'free',\n",
       " 'bus',\n",
       " 'trips',\n",
       " 'to',\n",
       " 'all',\n",
       " 'the',\n",
       " 'biggest',\n",
       " 'malls',\n",
       " 'in',\n",
       " 'dubai',\n",
       " 'which',\n",
       " 'really',\n",
       " 'impressed',\n",
       " 'us']"
      ]
     },
     "execution_count": 9,
     "metadata": {},
     "output_type": "execute_result"
    }
   ],
   "source": [
    "for i in range(len(valid_reviews)):\n",
    "    valid_reviews[i]=gensim.utils.simple_preprocess(valid_reviews[i])\n",
    "valid_reviews[5]"
   ]
  },
  {
   "cell_type": "code",
   "execution_count": 12,
   "id": "03178251",
   "metadata": {},
   "outputs": [],
   "source": [
    "w2v_model = gensim.models.Word2Vec(valid_reviews,vector_size=100, window=5,min_count=2)"
   ]
  },
  {
   "cell_type": "code",
   "execution_count": 13,
   "id": "6170f75c",
   "metadata": {},
   "outputs": [
    {
     "data": {
      "text/plain": [
       "[('courteous', 0.9374009370803833),\n",
       " ('cordial', 0.91152423620224),\n",
       " ('curteous', 0.9076840877532959),\n",
       " ('curtious', 0.8819109201431274),\n",
       " ('friendly', 0.8812618851661682),\n",
       " ('personable', 0.875590443611145),\n",
       " ('freindly', 0.8747040629386902),\n",
       " ('professional', 0.8694599866867065),\n",
       " ('friendy', 0.8562813997268677),\n",
       " ('gracious', 0.8524388670921326)]"
      ]
     },
     "execution_count": 13,
     "metadata": {},
     "output_type": "execute_result"
    }
   ],
   "source": [
    "w2v_model.wv.most_similar('polite')"
   ]
  },
  {
   "cell_type": "code",
   "execution_count": 14,
   "id": "a1ca661f",
   "metadata": {},
   "outputs": [
    {
     "data": {
      "text/plain": [
       "[('filthy', 0.8858205676078796),\n",
       " ('unclean', 0.8258286714553833),\n",
       " ('stained', 0.8079759478569031),\n",
       " ('dusty', 0.8022390604019165),\n",
       " ('grubby', 0.7979780435562134),\n",
       " ('dingy', 0.7856547236442566),\n",
       " ('smelly', 0.7789117693901062),\n",
       " ('mouldy', 0.772859513759613),\n",
       " ('grimy', 0.7656363248825073),\n",
       " ('soiled', 0.7601180672645569)]"
      ]
     },
     "execution_count": 14,
     "metadata": {},
     "output_type": "execute_result"
    }
   ],
   "source": [
    "w2v_model.wv.most_similar('dirty')"
   ]
  },
  {
   "cell_type": "code",
   "execution_count": 15,
   "id": "7c070780",
   "metadata": {},
   "outputs": [
    {
     "data": {
      "text/plain": [
       "[('canada', 0.7647954225540161),\n",
       " ('germany', 0.7643786072731018),\n",
       " ('rome', 0.7555191516876221),\n",
       " ('mexico', 0.7486543655395508),\n",
       " ('spain', 0.7330520749092102),\n",
       " ('greece', 0.7262970209121704),\n",
       " ('england', 0.7236055731773376),\n",
       " ('los', 0.7200413942337036),\n",
       " ('barcelona', 0.7123522758483887),\n",
       " ('angeles', 0.7097781300544739)]"
      ]
     },
     "execution_count": 15,
     "metadata": {},
     "output_type": "execute_result"
    }
   ],
   "source": [
    "w2v_model.wv.most_similar('france')"
   ]
  },
  {
   "cell_type": "code",
   "execution_count": 16,
   "id": "ef0d011b",
   "metadata": {},
   "outputs": [
    {
     "data": {
      "text/plain": [
       "array([ 1.7061443 , -2.0068035 , -1.7680063 , -0.5392246 ,  1.7597201 ,\n",
       "        1.1284332 , -2.2976117 , -0.0125127 , -1.0196674 , -1.5135049 ,\n",
       "       -2.0452702 ,  0.1725806 ,  1.4658335 ,  0.06391849, -4.522997  ,\n",
       "       -1.1807202 , -2.501392  , -1.6700729 ,  1.6078383 ,  1.4000399 ,\n",
       "        1.8742435 , -1.1242661 ,  0.81756216, -0.6287033 , -1.4782724 ,\n",
       "        1.2246568 ,  0.2296123 , -0.7381632 , -0.6949358 ,  1.9829957 ,\n",
       "        0.3844634 ,  2.153149  , -1.2529795 , -1.8714726 ,  0.751981  ,\n",
       "        1.5024399 , -1.4241905 ,  1.8836417 , -3.5151036 , -1.2368132 ,\n",
       "        0.32714558, -2.9993854 ,  1.2395014 ,  4.328851  ,  2.6193101 ,\n",
       "       -0.57796866,  2.850322  , -3.2434428 ,  3.3308625 ,  2.1914883 ,\n",
       "        0.73550946,  1.6276814 ,  2.2142062 , -1.7203724 , -2.7583845 ,\n",
       "       -1.2430573 , -0.14836492, -2.6320255 , -0.56192774, -0.7476171 ,\n",
       "       -0.19883272, -0.4234938 , -3.0149012 , -0.8406482 , -3.0121884 ,\n",
       "        1.3972893 , -0.24359888,  0.9719315 , -2.2261295 ,  1.1391376 ,\n",
       "        2.8793433 ,  4.953007  ,  2.0978923 ,  0.30093575,  0.90581065,\n",
       "       -0.41856873,  2.1412444 , -0.97063774,  1.7298378 , -2.8242464 ,\n",
       "       -0.06973162,  1.0641103 ,  2.3958292 , -0.61640453,  2.3642724 ,\n",
       "       -3.9337914 ,  1.5867463 ,  0.6233896 , -2.417057  ,  1.2290264 ,\n",
       "        0.0644838 , -0.09925719, -0.20467097, -0.11190522, -1.2492782 ,\n",
       "        0.63432205, -0.7963508 ,  2.6672575 ,  0.12360564, -0.5603745 ],\n",
       "      dtype=float32)"
      ]
     },
     "execution_count": 16,
     "metadata": {},
     "output_type": "execute_result"
    }
   ],
   "source": [
    "w2v_model.wv['polite']"
   ]
  },
  {
   "cell_type": "code",
   "execution_count": null,
   "id": "cdc66226",
   "metadata": {},
   "outputs": [],
   "source": []
  }
 ],
 "metadata": {
  "kernelspec": {
   "display_name": "Python 3 (ipykernel)",
   "language": "python",
   "name": "python3"
  },
  "language_info": {
   "codemirror_mode": {
    "name": "ipython",
    "version": 3
   },
   "file_extension": ".py",
   "mimetype": "text/x-python",
   "name": "python",
   "nbconvert_exporter": "python",
   "pygments_lexer": "ipython3",
   "version": "3.8.10"
  }
 },
 "nbformat": 4,
 "nbformat_minor": 5
}
